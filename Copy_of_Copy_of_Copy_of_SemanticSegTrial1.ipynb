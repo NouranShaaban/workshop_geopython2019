{
  "cells": [
    {
      "cell_type": "markdown",
      "metadata": {
        "id": "view-in-github",
        "colab_type": "text"
      },
      "source": [
        "<a href=\"https://colab.research.google.com/github/NouranShaaban/workshop_geopython2019/blob/master/Copy_of_Copy_of_Copy_of_SemanticSegTrial1.ipynb\" target=\"_parent\"><img src=\"https://colab.research.google.com/assets/colab-badge.svg\" alt=\"Open In Colab\"/></a>"
      ]
    },
    {
      "cell_type": "code",
      "execution_count": null,
      "metadata": {
        "colab": {
          "base_uri": "https://localhost:8080/"
        },
        "id": "-m9Jl447zhDy",
        "outputId": "2e4cdddb-bdc1-4c39-a2db-396db27eb254"
      },
      "outputs": [
        {
          "name": "stdout",
          "output_type": "stream",
          "text": [
            "Looking in indexes: https://pypi.org/simple, https://us-python.pkg.dev/colab-wheels/public/simple/\n",
            "Requirement already satisfied: tensorflow_addons in /usr/local/lib/python3.8/dist-packages (0.19.0)\n",
            "Requirement already satisfied: typeguard>=2.7 in /usr/local/lib/python3.8/dist-packages (from tensorflow_addons) (2.7.1)\n",
            "Requirement already satisfied: packaging in /usr/local/lib/python3.8/dist-packages (from tensorflow_addons) (23.0)\n"
          ]
        }
      ],
      "source": [
        "!pip install tensorflow_addons"
      ]
    },
    {
      "cell_type": "code",
      "execution_count": null,
      "metadata": {
        "id": "xjxQkPu217nV"
      },
      "outputs": [],
      "source": [
        "import tensorflow as tf\n",
        "from tensorflow.keras.preprocessing.image import ImageDataGenerator\n",
        "import tensorflow_datasets as tfds\n",
        "from tensorflow import keras\n",
        "import matplotlib.pyplot as plt\n",
        "from keras import layers\n",
        "import tensorflow_addons as tfa\n",
        "import glob\n",
        "import numpy as np\n",
        "from PIL import Image\n",
        "import tensorflow.keras.layers as layers\n",
        "from keras.layers import Input, Conv2D, MaxPooling2D, UpSampling2D\n",
        "from keras.models import Model\n",
        "from keras.optimizers import Adam\n",
        "from keras.losses import categorical_crossentropy\n",
        "from sklearn.model_selection import train_test_split\n",
        "import cv2\n"
      ]
    },
    {
      "cell_type": "code",
      "execution_count": null,
      "metadata": {
        "id": "NNqsLyCc17qA"
      },
      "outputs": [],
      "source": [
        "# Set the directory where the images are stored\n",
        "image_dir = '/content/drive/MyDrive/DATASET/newlabels_train/JPEGImages'\n",
        "\n",
        "# Create an empty list to store the image data\n",
        "image_data = []\n",
        "\n",
        "# Use glob to get a list of all the image filenames\n",
        "filenames = glob.glob(image_dir + '/*.jpg')\n",
        "\n",
        "# Loop through the filenames and load the images\n",
        "for filename in filenames:\n",
        "    # Load the image and convert it to grayscale\n",
        "    image = Image.open(filename).convert('L')\n",
        "  \n",
        "    # Resize the image to a consistent size\n",
        "    image = image.resize((256, 256))\n",
        "    # Convert the image to a numpy array\n",
        "    image_array = np.array(image)\n",
        "    \n",
        "    # Append the image array to the list\n",
        "    image_data.append(image_array)\n",
        "\n",
        "# Convert the list of image arrays to a NumPy array\n",
        "image_data = np.array(image_data)\n",
        "\n",
        "# Save the image data to a file\n",
        "np.save('image_data.npy', image_data)"
      ]
    },
    {
      "cell_type": "code",
      "execution_count": null,
      "metadata": {
        "id": "lc3OdKlt17si"
      },
      "outputs": [],
      "source": [
        "image_data = image_data.reshape((-1,256,256,1))\n"
      ]
    },
    {
      "cell_type": "code",
      "execution_count": null,
      "metadata": {
        "id": "_89rfZw017vF"
      },
      "outputs": [],
      "source": [
        "# Set the directory where the images are stored\n",
        "label_dir = '/content/drive/MyDrive/DATASET/newlabels_train/SegmentationClassPNG'\n",
        "\n",
        "# Create an empty list to store the image data\n",
        "label_data = []\n",
        "# Number of classes\n",
        "num_classes = 4\n",
        "\n",
        "# Use glob to get a list of all the image filenames\n",
        "filenames = glob.glob(label_dir + '/*.png')\n",
        "\n",
        "# Loop through the filenames and load the images\n",
        "for filename in filenames:\n",
        "    # Load the image and convert it to grayscale\n",
        "    label = Image.open(filename)#.convert('L')\n",
        "    \n",
        "    # Resize the image to a consistent size\n",
        "    label = label.resize((256, 256))\n",
        "    # Convert the image to a numpy array\n",
        "    label_array = np.array(label)\n",
        " \n",
        "    \n",
        "    # Append the image array to the list\n",
        "    label_data.append(label_array)\n",
        "\n",
        "label_data = np.array(label_data)\n",
        "\n",
        "# Save the image data to a file\n",
        "np.save('label_data.npy', label_data)\n",
        "\n",
        "##########################################################################"
      ]
    },
    {
      "cell_type": "code",
      "execution_count": null,
      "metadata": {
        "colab": {
          "base_uri": "https://localhost:8080/"
        },
        "id": "qBe4QTw517xR",
        "outputId": "7bed079c-33d7-4428-dbac-a1b355fcc58b"
      },
      "outputs": [
        {
          "data": {
            "text/plain": [
              "9961472"
            ]
          },
          "execution_count": 6,
          "metadata": {},
          "output_type": "execute_result"
        }
      ],
      "source": [
        "label_data.size"
      ]
    },
    {
      "cell_type": "code",
      "execution_count": null,
      "metadata": {
        "id": "kF1d0Ty417z7"
      },
      "outputs": [],
      "source": [
        "\n",
        "one_hot_labels = np.zeros((len(label_data), 256, 256, num_classes))\n",
        "\n",
        "# Iterate over the label images\n",
        "for i, label_image in enumerate(label_data):\n",
        "    # one-hot encode the labels\n",
        "    one_hot_labels[i] = np.eye(num_classes)[label_image]\n",
        "\n",
        "    class_names = ['Background','panel','panelWfrost','Thicknow']\n",
        "\n",
        "# Get the index of the class with the highest probability\n",
        "label_index = np.argmax(one_hot_labels, axis=-1)\n",
        "\n",
        "# Get the name of the class\n",
        "label_index = label_index.astype(int)\n",
        "class_name = np.vectorize(lambda x: class_names[x])(label_index)\n"
      ]
    },
    {
      "cell_type": "code",
      "execution_count": null,
      "metadata": {
        "colab": {
          "base_uri": "https://localhost:8080/"
        },
        "id": "1Gre9jE5172Z",
        "outputId": "891f6745-78b2-45c1-f708-e25a6f3828ed"
      },
      "outputs": [
        {
          "data": {
            "text/plain": [
              "(152, 256, 256, 4)"
            ]
          },
          "execution_count": 8,
          "metadata": {},
          "output_type": "execute_result"
        }
      ],
      "source": [
        "one_hot_labels.shape"
      ]
    },
    {
      "cell_type": "code",
      "execution_count": null,
      "metadata": {
        "colab": {
          "base_uri": "https://localhost:8080/"
        },
        "id": "0gwBvqRm1741",
        "outputId": "3441f6cd-ab42-4bb3-b5e1-761b4daada0f"
      },
      "outputs": [
        {
          "data": {
            "text/plain": [
              "array([[0., 0., 0., ..., 0., 0., 0.],\n",
              "       [0., 0., 0., ..., 0., 0., 0.],\n",
              "       [0., 0., 0., ..., 0., 0., 0.],\n",
              "       ...,\n",
              "       [0., 0., 0., ..., 0., 0., 0.],\n",
              "       [0., 0., 0., ..., 0., 0., 0.],\n",
              "       [0., 0., 0., ..., 0., 0., 0.]])"
            ]
          },
          "execution_count": 9,
          "metadata": {},
          "output_type": "execute_result"
        }
      ],
      "source": [
        "one_hot_labels[0,:,:,1]"
      ]
    },
    {
      "cell_type": "code",
      "execution_count": null,
      "metadata": {
        "colab": {
          "base_uri": "https://localhost:8080/",
          "height": 269
        },
        "id": "jV9GPeS-177Q",
        "outputId": "27456846-5c79-45da-df1f-a1625e715913"
      },
      "outputs": [
        {
          "data": {
            "image/png": "[encoded data removed]",
            "text/plain": [
              "<Figure size 432x288 with 1 Axes>"
            ]
          },
          "metadata": {},
          "output_type": "display_data"
        }
      ],
      "source": [
        "# Load the image data\n",
        "label_data = np.load('label_data.npy')\n",
        "\n",
        "# Number of classes\n",
        "num_classes = 4\n",
        "\n",
        "# Create an empty array to store the one-hot encoded labels\n",
        "one_hot_labels = np.zeros((len(label_data), 256, 256, num_classes))\n",
        "\n",
        "# Iterate over the label images\n",
        "for i, label_image in enumerate(label_data):\n",
        "    # One-hot encode the labels\n",
        "    for j in range(num_classes):\n",
        "        one_hot_labels[i,:,:,j] = (label_image == j)\n",
        "\n",
        "# Get the index of the class with the highest probability\n",
        "label_index = np.argmax(one_hot_labels, axis=-1)\n",
        "\n",
        "# Get the name of the class\n",
        "class_names = ['Background','panel','panelWfrost','Thicksnow']\n",
        "\n",
        "# display the one-hot encoded image\n",
        "img = label_index[1]\n",
        "plt.imshow(img)\n",
        "plt.show()\n"
      ]
    },
    {
      "cell_type": "code",
      "execution_count": null,
      "metadata": {
        "colab": {
          "base_uri": "https://localhost:8080/",
          "height": 269
        },
        "id": "ncmCTCos179w",
        "outputId": "a69b6803-6fc5-4408-c41c-82ecefc221b5"
      },
      "outputs": [
        {
          "data": {
            "image/png": "[encoded data removed]",
            "text/plain": [
              "<Figure size 432x288 with 1 Axes>"
            ]
          },
          "metadata": {},
          "output_type": "display_data"
        }
      ],
      "source": [
        "class_3 = np.where(label_index[93] == 0, 1,0)\n",
        "class_3 = class_3.reshape((256,256))\n",
        "plt.imshow(class_3)\n",
        "plt.show()\n"
      ]
    },
    {
      "cell_type": "code",
      "execution_count": null,
      "metadata": {
        "id": "BTux8cGt18AW"
      },
      "outputs": [],
      "source": [
        "class_counts = []\n",
        "for i in range(num_classes):\n",
        "    class_mask = np.where(label_index[93] == i, 1, 0)\n",
        "    class_counts.append(np.sum(class_mask))\n"
      ]
    },
    {
      "cell_type": "code",
      "execution_count": null,
      "metadata": {
        "colab": {
          "base_uri": "https://localhost:8080/"
        },
        "id": "3aDZgKoS18DB",
        "outputId": "0fc89431-55b1-48f7-d885-9a96d7ed8a40"
      },
      "outputs": [
        {
          "name": "stdout",
          "output_type": "stream",
          "text": [
            "[39120, 2507, 0, 23909]\n"
          ]
        }
      ],
      "source": [
        "print(class_counts)"
      ]
    },
    {
      "cell_type": "code",
      "execution_count": null,
      "metadata": {
        "id": "9i3IAF7Y2YSA"
      },
      "outputs": [],
      "source": [
        "def upsample_block(x, conv_features, n_filters):\n",
        "   # upsample\n",
        "   x = layers.Conv2DTranspose(n_filters, 3, 2, padding=\"same\")(x)\n",
        "   # concatenate\n",
        "   x = layers.concatenate([x, conv_features])\n",
        "   # dropout\n",
        "   x = layers.Dropout(0.3)(x)\n",
        "   # Conv2D twice with ReLU activation\n",
        "   x = double_conv_block(x, n_filters)\n",
        "   # add another Conv2D layer\n",
        "   x = layers.Conv2D(n_filters, 3, padding = \"same\", activation = \"relu\", kernel_initializer = \"he_normal\")(x)\n",
        "\n",
        "   return x\n"
      ]
    },
    {
      "cell_type": "code",
      "execution_count": null,
      "metadata": {
        "id": "CVMQYuy72YU2"
      },
      "outputs": [],
      "source": [
        "def downsample_block(x, n_filters):\n",
        "   f = double_conv_block(x, n_filters)\n",
        "   p = layers.MaxPool2D(2)(f)\n",
        "   p = layers.Dropout(0.3)(p)\n",
        "\n",
        "   return f, p"
      ]
    },
    {
      "cell_type": "code",
      "execution_count": null,
      "metadata": {
        "id": "icMPQTy82YXs"
      },
      "outputs": [],
      "source": [
        "def double_conv_block(x, n_filters):\n",
        "   # Conv2D then ReLU activation\n",
        "   x = layers.Conv2D(n_filters, 3, padding = \"same\", activation = \"relu\", kernel_initializer = \"he_normal\")(x)\n",
        "   # Conv2D then ReLU activation\n",
        "   x = layers.Conv2D(n_filters, 3, padding = \"same\", activation = \"relu\", kernel_initializer = \"he_normal\")(x)\n",
        "   # add another Conv2D layer\n",
        "   x = layers.Conv2D(n_filters, 3, padding = \"same\", activation = \"relu\", kernel_initializer = \"he_normal\")(x)\n",
        "   # add another Conv2D layer\n",
        "   x = layers.Conv2D(n_filters, 3, padding = \"same\", activation = \"relu\", kernel_initializer = \"he_normal\")(x)\n",
        "\n",
        "   return x\n"
      ]
    },
    {
      "cell_type": "code",
      "execution_count": null,
      "metadata": {
        "id": "M4rjSNjE4L9i"
      },
      "outputs": [],
      "source": [
        "from tensorflow.keras.preprocessing.image import ImageDataGenerator\n",
        "\n",
        "\n",
        "datagen = ImageDataGenerator(\n",
        "    rotation_range=20,\n",
        "    width_shift_range=0.2,\n",
        "    height_shift_range=0.2,\n",
        "    shear_range=0.2,\n",
        "    zoom_range=0.2,\n",
        "    horizontal_flip=True,\n",
        "    fill_mode='nearest')"
      ]
    },
    {
      "cell_type": "code",
      "execution_count": null,
      "metadata": {
        "id": "2OYaRXbZ5wWW"
      },
      "outputs": [],
      "source": [
        " # inputs\n",
        "import tensorflow.keras.layers as layers\n",
        " \n",
        "inputs = layers.Input(shape=(256,256,1))\n",
        "\n",
        "# encoder: contracting path - downsample\n",
        "# 1 - downsample\n",
        "f1, p1 = downsample_block(inputs, 64)\n",
        "# 2 - downsample\n",
        "f2, p2 = downsample_block(p1, 128)\n",
        "# 3 - downsample\n",
        "f3, p3 = downsample_block(p2, 256)\n",
        "# 4 - downsample\n",
        "f4, p4 = downsample_block(p3, 512)\n",
        "\n",
        "# 5 - bottleneck\n",
        "bottleneck = double_conv_block(p4, 1024)\n",
        "\n",
        "# decoder: expanding path - upsample\n",
        "# 6 - upsample\n",
        "u6 = upsample_block(bottleneck, f4, 512)\n",
        "# 7 - upsample\n",
        "u7 = upsample_block(u6, f3, 256)\n",
        "# 8 - upsample\n",
        "u8 = upsample_block(u7, f2, 128)\n",
        "# 9 - upsample\n",
        "u9 = upsample_block(u8, f1, 64)\n",
        "\n",
        "# outputs\n",
        "outputs = layers.Conv2D(4, 1, padding=\"same\", activation = \"softmax\")(u9)\n",
        "\n",
        "# unet model with Keras Functional API\n",
        "unet_model = tf.keras.Model(inputs, outputs, name=\"U-Net\")\n"
      ]
    },
    {
      "cell_type": "code",
      "execution_count": null,
      "metadata": {
        "colab": {
          "base_uri": "https://localhost:8080/"
        },
        "id": "RJeesHOhHqCL",
        "outputId": "e66e1fbb-ba66-47b7-b92d-81861eb3e510"
      },
      "outputs": [
        {
          "name": "stdout",
          "output_type": "stream",
          "text": [
            "Model: \"U-Net\"\n",
            "__________________________________________________________________________________________________\n",
            " Layer (type)                   Output Shape         Param #     Connected to                     \n",
            "==================================================================================================\n",
            " input_1 (InputLayer)           [(None, 256, 256, 1  0           []                               \n",
            "                                )]                                                                \n",
            "                                                                                                  \n",
            " conv2d (Conv2D)                (None, 256, 256, 64  640         ['input_1[0][0]']                \n",
            "                                )                                                                 \n",
            "                                                                                                  \n",
            " conv2d_1 (Conv2D)              (None, 256, 256, 64  36928       ['conv2d[0][0]']                 \n",
            "                                )                                                                 \n",
            "                                                                                                  \n",
            " conv2d_2 (Conv2D)              (None, 256, 256, 64  36928       ['conv2d_1[0][0]']               \n",
            "                                )                                                                 \n",
            "                                                                                                  \n",
            " conv2d_3 (Conv2D)              (None, 256, 256, 64  36928       ['conv2d_2[0][0]']               \n",
            "                                )                                                                 \n",
            "                                                                                                  \n",
            " max_pooling2d (MaxPooling2D)   (None, 128, 128, 64  0           ['conv2d_3[0][0]']               \n",
            "                                )                                                                 \n",
            "                                                                                                  \n",
            " dropout (Dropout)              (None, 128, 128, 64  0           ['max_pooling2d[0][0]']          \n",
            "                                )                                                                 \n",
            "                                                                                                  \n",
            " conv2d_4 (Conv2D)              (None, 128, 128, 12  73856       ['dropout[0][0]']                \n",
            "                                8)                                                                \n",
            "                                                                                                  \n",
            " conv2d_5 (Conv2D)              (None, 128, 128, 12  147584      ['conv2d_4[0][0]']               \n",
            "                                8)                                                                \n",
            "                                                                                                  \n",
            " conv2d_6 (Conv2D)              (None, 128, 128, 12  147584      ['conv2d_5[0][0]']               \n",
            "                                8)                                                                \n",
            "                                                                                                  \n",
            " conv2d_7 (Conv2D)              (None, 128, 128, 12  147584      ['conv2d_6[0][0]']               \n",
            "                                8)                                                                \n",
            "                                                                                                  \n",
            " max_pooling2d_1 (MaxPooling2D)  (None, 64, 64, 128)  0          ['conv2d_7[0][0]']               \n",
            "                                                                                                  \n",
            " dropout_1 (Dropout)            (None, 64, 64, 128)  0           ['max_pooling2d_1[0][0]']        \n",
            "                                                                                                  \n",
            " conv2d_8 (Conv2D)              (None, 64, 64, 256)  295168      ['dropout_1[0][0]']              \n",
            "                                                                                                  \n",
            " conv2d_9 (Conv2D)              (None, 64, 64, 256)  590080      ['conv2d_8[0][0]']               \n",
            "                                                                                                  \n",
            " conv2d_10 (Conv2D)             (None, 64, 64, 256)  590080      ['conv2d_9[0][0]']               \n",
            "                                                                                                  \n",
            " conv2d_11 (Conv2D)             (None, 64, 64, 256)  590080      ['conv2d_10[0][0]']              \n",
            "                                                                                                  \n",
            " max_pooling2d_2 (MaxPooling2D)  (None, 32, 32, 256)  0          ['conv2d_11[0][0]']              \n",
            "                                                                                                  \n",
            " dropout_2 (Dropout)            (None, 32, 32, 256)  0           ['max_pooling2d_2[0][0]']        \n",
            "                                                                                                  \n",
            " conv2d_12 (Conv2D)             (None, 32, 32, 512)  1180160     ['dropout_2[0][0]']              \n",
            "                                                                                                  \n",
            " conv2d_13 (Conv2D)             (None, 32, 32, 512)  2359808     ['conv2d_12[0][0]']              \n",
            "                                                                                                  \n",
            " conv2d_14 (Conv2D)             (None, 32, 32, 512)  2359808     ['conv2d_13[0][0]']              \n",
            "                                                                                                  \n",
            " conv2d_15 (Conv2D)             (None, 32, 32, 512)  2359808     ['conv2d_14[0][0]']              \n",
            "                                                                                                  \n",
            " max_pooling2d_3 (MaxPooling2D)  (None, 16, 16, 512)  0          ['conv2d_15[0][0]']              \n",
            "                                                                                                  \n",
            " dropout_3 (Dropout)            (None, 16, 16, 512)  0           ['max_pooling2d_3[0][0]']        \n",
            "                                                                                                  \n",
            " conv2d_16 (Conv2D)             (None, 16, 16, 1024  4719616     ['dropout_3[0][0]']              \n",
            "                                )                                                                 \n",
            "                                                                                                  \n",
            " conv2d_17 (Conv2D)             (None, 16, 16, 1024  9438208     ['conv2d_16[0][0]']              \n",
            "                                )                                                                 \n",
            "                                                                                                  \n",
            " conv2d_18 (Conv2D)             (None, 16, 16, 1024  9438208     ['conv2d_17[0][0]']              \n",
            "                                )                                                                 \n",
            "                                                                                                  \n",
            " conv2d_19 (Conv2D)             (None, 16, 16, 1024  9438208     ['conv2d_18[0][0]']              \n",
            "                                )                                                                 \n",
            "                                                                                                  \n",
            " conv2d_transpose (Conv2DTransp  (None, 32, 32, 512)  4719104    ['conv2d_19[0][0]']              \n",
            " ose)                                                                                             \n",
            "                                                                                                  \n",
            " concatenate (Concatenate)      (None, 32, 32, 1024  0           ['conv2d_transpose[0][0]',       \n",
            "                                )                                 'conv2d_15[0][0]']              \n",
            "                                                                                                  \n",
            " dropout_4 (Dropout)            (None, 32, 32, 1024  0           ['concatenate[0][0]']            \n",
            "                                )                                                                 \n",
            "                                                                                                  \n",
            " conv2d_20 (Conv2D)             (None, 32, 32, 512)  4719104     ['dropout_4[0][0]']              \n",
            "                                                                                                  \n",
            " conv2d_21 (Conv2D)             (None, 32, 32, 512)  2359808     ['conv2d_20[0][0]']              \n",
            "                                                                                                  \n",
            " conv2d_22 (Conv2D)             (None, 32, 32, 512)  2359808     ['conv2d_21[0][0]']              \n",
            "                                                                                                  \n",
            " conv2d_23 (Conv2D)             (None, 32, 32, 512)  2359808     ['conv2d_22[0][0]']              \n",
            "                                                                                                  \n",
            " conv2d_24 (Conv2D)             (None, 32, 32, 512)  2359808     ['conv2d_23[0][0]']              \n",
            "                                                                                                  \n",
            " conv2d_transpose_1 (Conv2DTran  (None, 64, 64, 256)  1179904    ['conv2d_24[0][0]']              \n",
            " spose)                                                                                           \n",
            "                                                                                                  \n",
            " concatenate_1 (Concatenate)    (None, 64, 64, 512)  0           ['conv2d_transpose_1[0][0]',     \n",
            "                                                                  'conv2d_11[0][0]']              \n",
            "                                                                                                  \n",
            " dropout_5 (Dropout)            (None, 64, 64, 512)  0           ['concatenate_1[0][0]']          \n",
            "                                                                                                  \n",
            " conv2d_25 (Conv2D)             (None, 64, 64, 256)  1179904     ['dropout_5[0][0]']              \n",
            "                                                                                                  \n",
            " conv2d_26 (Conv2D)             (None, 64, 64, 256)  590080      ['conv2d_25[0][0]']              \n",
            "                                                                                                  \n",
            " conv2d_27 (Conv2D)             (None, 64, 64, 256)  590080      ['conv2d_26[0][0]']              \n",
            "                                                                                                  \n",
            " conv2d_28 (Conv2D)             (None, 64, 64, 256)  590080      ['conv2d_27[0][0]']              \n",
            "                                                                                                  \n",
            " conv2d_29 (Conv2D)             (None, 64, 64, 256)  590080      ['conv2d_28[0][0]']              \n",
            "                                                                                                  \n",
            " conv2d_transpose_2 (Conv2DTran  (None, 128, 128, 12  295040     ['conv2d_29[0][0]']              \n",
            " spose)                         8)                                                                \n",
            "                                                                                                  \n",
            " concatenate_2 (Concatenate)    (None, 128, 128, 25  0           ['conv2d_transpose_2[0][0]',     \n",
            "                                6)                                'conv2d_7[0][0]']               \n",
            "                                                                                                  \n",
            " dropout_6 (Dropout)            (None, 128, 128, 25  0           ['concatenate_2[0][0]']          \n",
            "                                6)                                                                \n",
            "                                                                                                  \n",
            " conv2d_30 (Conv2D)             (None, 128, 128, 12  295040      ['dropout_6[0][0]']              \n",
            "                                8)                                                                \n",
            "                                                                                                  \n",
            " conv2d_31 (Conv2D)             (None, 128, 128, 12  147584      ['conv2d_30[0][0]']              \n",
            "                                8)                                                                \n",
            "                                                                                                  \n",
            " conv2d_32 (Conv2D)             (None, 128, 128, 12  147584      ['conv2d_31[0][0]']              \n",
            "                                8)                                                                \n",
            "                                                                                                  \n",
            " conv2d_33 (Conv2D)             (None, 128, 128, 12  147584      ['conv2d_32[0][0]']              \n",
            "                                8)                                                                \n",
            "                                                                                                  \n",
            " conv2d_34 (Conv2D)             (None, 128, 128, 12  147584      ['conv2d_33[0][0]']              \n",
            "                                8)                                                                \n",
            "                                                                                                  \n",
            " conv2d_transpose_3 (Conv2DTran  (None, 256, 256, 64  73792      ['conv2d_34[0][0]']              \n",
            " spose)                         )                                                                 \n",
            "                                                                                                  \n",
            " concatenate_3 (Concatenate)    (None, 256, 256, 12  0           ['conv2d_transpose_3[0][0]',     \n",
            "                                8)                                'conv2d_3[0][0]']               \n",
            "                                                                                                  \n",
            " dropout_7 (Dropout)            (None, 256, 256, 12  0           ['concatenate_3[0][0]']          \n",
            "                                8)                                                                \n",
            "                                                                                                  \n",
            " conv2d_35 (Conv2D)             (None, 256, 256, 64  73792       ['dropout_7[0][0]']              \n",
            "                                )                                                                 \n",
            "                                                                                                  \n",
            " conv2d_36 (Conv2D)             (None, 256, 256, 64  36928       ['conv2d_35[0][0]']              \n",
            "                                )                                                                 \n",
            "                                                                                                  \n",
            " conv2d_37 (Conv2D)             (None, 256, 256, 64  36928       ['conv2d_36[0][0]']              \n",
            "                                )                                                                 \n",
            "                                                                                                  \n",
            " conv2d_38 (Conv2D)             (None, 256, 256, 64  36928       ['conv2d_37[0][0]']              \n",
            "                                )                                                                 \n",
            "                                                                                                  \n",
            " conv2d_39 (Conv2D)             (None, 256, 256, 64  36928       ['conv2d_38[0][0]']              \n",
            "                                )                                                                 \n",
            "                                                                                                  \n",
            " conv2d_40 (Conv2D)             (None, 256, 256, 4)  260         ['conv2d_39[0][0]']              \n",
            "                                                                                                  \n",
            "==================================================================================================\n",
            "Total params: 69,060,804\n",
            "Trainable params: 69,060,804\n",
            "Non-trainable params: 0\n",
            "__________________________________________________________________________________________________\n"
          ]
        }
      ],
      "source": [
        "unet_model.summary()"
      ]
    },
    {
      "cell_type": "code",
      "execution_count": null,
      "metadata": {
        "id": "fME0ebJ72YaT"
      },
      "outputs": [],
      "source": [
        "from keras.layers import Input, Conv2D, MaxPooling2D, UpSampling2D\n",
        "from keras.models import Model\n",
        "from keras.optimizers import Adam\n",
        "from keras.losses import categorical_crossentropy\n",
        "\n",
        "x = unet_model.outputs\n",
        "\n",
        "# Compile the model\n",
        "unet_model = keras.Model(inputs, x)\n",
        "unet_model.compile(optimizer='adam', loss=tf.losses.CategoricalCrossentropy(), metrics=['accuracy'])"
      ]
    },
    {
      "cell_type": "code",
      "execution_count": null,
      "metadata": {
        "colab": {
          "base_uri": "https://localhost:8080/"
        },
        "id": "Yf2v-J7p2Yc6",
        "outputId": "6e82c23a-6d17-48cd-a28c-ce669347f0d8"
      },
      "outputs": [
        {
          "data": {
            "text/plain": [
              "(152, 256, 256, 1)"
            ]
          },
          "execution_count": 21,
          "metadata": {},
          "output_type": "execute_result"
        }
      ],
      "source": [
        "image_data.shape"
      ]
    },
    {
      "cell_type": "code",
      "execution_count": null,
      "metadata": {
        "id": "S1zutHpFYuTh"
      },
      "outputs": [],
      "source": [
        "\n",
        "\n",
        "from sklearn.model_selection import train_test_split\n",
        "train_images, test_images, train_labels, test_labels = train_test_split(image_data, one_hot_labels, test_size=0.2, random_state=42)"
      ]
    },
    {
      "cell_type": "code",
      "execution_count": null,
      "metadata": {
        "colab": {
          "base_uri": "https://localhost:8080/"
        },
        "id": "livp2L57b2FC",
        "outputId": "e42301f0-1079-4bcb-d562-48e6a874aa70"
      },
      "outputs": [
        {
          "data": {
            "text/plain": [
              "(121, 256, 256, 4)"
            ]
          },
          "execution_count": 23,
          "metadata": {},
          "output_type": "execute_result"
        }
      ],
      "source": [
        "train_labels.shape"
      ]
    },
    {
      "cell_type": "code",
      "execution_count": null,
      "metadata": {
        "colab": {
          "base_uri": "https://localhost:8080/"
        },
        "id": "IyK3g-33Cn5f",
        "outputId": "e4f6ea6d-a8be-41df-8e84-2e99973ff8d2"
      },
      "outputs": [
        {
          "data": {
            "text/plain": [
              "(121, 256, 256, 1)"
            ]
          },
          "execution_count": 24,
          "metadata": {},
          "output_type": "execute_result"
        }
      ],
      "source": [
        "train_images.shape"
      ]
    },
    {
      "cell_type": "code",
      "execution_count": null,
      "metadata": {
        "colab": {
          "base_uri": "https://localhost:8080/"
        },
        "id": "H9-wCkBOvLst",
        "outputId": "a4efdfb0-c4ab-4b86-fad2-b567c998bc15"
      },
      "outputs": [
        {
          "data": {
            "text/plain": [
              "(31, 256, 256, 4)"
            ]
          },
          "execution_count": 25,
          "metadata": {},
          "output_type": "execute_result"
        }
      ],
      "source": [
        "test_labels.shape\n"
      ]
    },
    {
      "cell_type": "code",
      "execution_count": null,
      "metadata": {
        "colab": {
          "base_uri": "https://localhost:8080/"
        },
        "id": "oPuMkIdKCnCa",
        "outputId": "567aff90-44e5-4869-85b2-1119c40963ce"
      },
      "outputs": [
        {
          "data": {
            "text/plain": [
              "(31, 256, 256, 4)"
            ]
          },
          "execution_count": 26,
          "metadata": {},
          "output_type": "execute_result"
        }
      ],
      "source": [
        "test_labels.shape"
      ]
    },
    {
      "cell_type": "code",
      "execution_count": null,
      "metadata": {
        "id": "n6METtkbZ90l"
      },
      "outputs": [],
      "source": [
        "history = unet_model.fit(datagen.flow(train_images, train_labels, batch_size=10), epochs=1, validation_data=(test_images, test_labels))\n"
      ]
    },
    {
      "cell_type": "code",
      "execution_count": 39,
      "metadata": {
        "id": "fmcRU32GDNeU"
      },
      "outputs": [],
      "source": [
        "unet_model.save('unet_model.h5')"
      ]
    },
    {
      "cell_type": "code",
      "execution_count": 40,
      "metadata": {
        "colab": {
          "base_uri": "https://localhost:8080/"
        },
        "id": "z5EyQHKnUy9w",
        "outputId": "45ccf39b-817f-4ea3-d823-b452260bc231"
      },
      "outputs": [
        {
          "output_type": "stream",
          "name": "stdout",
          "text": [
            "1/1 [==============================] - 5s 5s/step\n"
          ]
        }
      ],
      "source": [
        "import cv2 # Load the test image in color format\n",
        "test_image = cv2.imread('test_image.jpg')\n",
        "\n",
        "# Resize the test image to the desired size\n",
        "test_image = cv2.resize(test_image, (256, 256))\n",
        "\n",
        "# Convert the test image to grayscale\n",
        "gray_image = cv2.cvtColor(test_image, cv2.COLOR_BGR2GRAY)\n",
        "\n",
        "# Preprocess the test image\n",
        "gray_image = gray_image.astype('float32') / 255.0\n",
        "\n",
        "# Reshape the grayscale image to match the model input shape\n",
        "gray_image = gray_image.reshape((1, 256, 256, 1))\n",
        "\n",
        "# Make predictions on the test image\n",
        "predictions = unet_model.predict(gray_image)"
      ]
    },
    {
      "cell_type": "code",
      "execution_count": 41,
      "metadata": {
        "colab": {
          "base_uri": "https://localhost:8080/"
        },
        "id": "4x-LGgB7UzB7",
        "outputId": "12c96a0c-b605-4a15-f503-0a9ab352d0df"
      },
      "outputs": [
        {
          "output_type": "stream",
          "name": "stdout",
          "text": [
            "[[[[3.73754442e-01 2.67505586e-01 1.53254986e-01 2.05485106e-01]\n",
            "   [4.29851264e-01 2.78222501e-01 1.31037697e-01 1.60888463e-01]\n",
            "   [4.73109603e-01 2.77775258e-01 1.07769750e-01 1.41345412e-01]\n",
            "   ...\n",
            "   [9.66969609e-01 3.28723229e-02 3.66553613e-05 1.21342076e-04]\n",
            "   [9.25427437e-01 7.38912821e-02 3.61039100e-04 3.20098945e-04]\n",
            "   [7.45784640e-01 2.43186712e-01 7.21074874e-03 3.81784886e-03]]\n",
            "\n",
            "  [[3.88813436e-01 2.99660534e-01 1.17532849e-01 1.93993226e-01]\n",
            "   [4.74907845e-01 2.99135208e-01 8.37670416e-02 1.42189845e-01]\n",
            "   [5.13473392e-01 3.06202263e-01 6.10955805e-02 1.19228847e-01]\n",
            "   ...\n",
            "   [9.89656806e-01 1.03133796e-02 4.21351587e-07 2.93283338e-05]\n",
            "   [9.77390945e-01 2.25678403e-02 8.43239491e-07 4.04166167e-05]\n",
            "   [9.00225520e-01 9.81585681e-02 7.96935870e-04 8.18873523e-04]]\n",
            "\n",
            "  [[4.27687615e-01 3.01297039e-01 1.05850771e-01 1.65164620e-01]\n",
            "   [5.15953004e-01 3.14169586e-01 7.03127161e-02 9.95646641e-02]\n",
            "   [5.41456819e-01 3.13598305e-01 5.43755665e-02 9.05693248e-02]\n",
            "   ...\n",
            "   [9.65959072e-01 3.40296216e-02 3.27956045e-08 1.12444086e-05]\n",
            "   [9.85209644e-01 1.47704715e-02 2.63583956e-07 1.96342589e-05]\n",
            "   [9.23546135e-01 7.56540969e-02 1.24845581e-04 6.74984185e-04]]\n",
            "\n",
            "  ...\n",
            "\n",
            "  [[3.97327363e-01 2.87500411e-01 1.28632635e-01 1.86539546e-01]\n",
            "   [4.14144874e-01 3.27777654e-01 1.04772426e-01 1.53305084e-01]\n",
            "   [4.42100912e-01 3.22718680e-01 9.21749622e-02 1.43005386e-01]\n",
            "   ...\n",
            "   [5.64001977e-01 2.91718245e-01 3.89433503e-02 1.05336383e-01]\n",
            "   [5.63560128e-01 2.80956030e-01 5.08378223e-02 1.04645975e-01]\n",
            "   [5.01691043e-01 2.60176063e-01 1.03701636e-01 1.34431317e-01]]\n",
            "\n",
            "  [[3.83034885e-01 2.79133797e-01 1.40174672e-01 1.97656676e-01]\n",
            "   [4.21398073e-01 3.05740446e-01 1.17071770e-01 1.55789718e-01]\n",
            "   [4.31489199e-01 2.97690183e-01 1.15382396e-01 1.55438125e-01]\n",
            "   ...\n",
            "   [5.66289604e-01 2.78755099e-01 4.56213094e-02 1.09334059e-01]\n",
            "   [5.56343138e-01 2.57305622e-01 6.28407598e-02 1.23510510e-01]\n",
            "   [4.46974009e-01 2.67948091e-01 1.20191596e-01 1.64886281e-01]]\n",
            "\n",
            "  [[3.47133279e-01 2.92944700e-01 1.53785780e-01 2.06136167e-01]\n",
            "   [3.57593566e-01 3.04936945e-01 1.38304085e-01 1.99165463e-01]\n",
            "   [3.44591260e-01 3.03310066e-01 1.51837096e-01 2.00261578e-01]\n",
            "   ...\n",
            "   [4.10237402e-01 2.65835673e-01 1.35005876e-01 1.88921005e-01]\n",
            "   [3.70074123e-01 2.81431735e-01 1.50666907e-01 1.97827294e-01]\n",
            "   [3.61720383e-01 2.45988235e-01 1.90519899e-01 2.01771468e-01]]]]\n"
          ]
        }
      ],
      "source": [
        "print(predictions)"
      ]
    },
    {
      "cell_type": "code",
      "execution_count": 42,
      "metadata": {
        "colab": {
          "base_uri": "https://localhost:8080/"
        },
        "id": "J9E1mK1KUzEv",
        "outputId": "bb7294dd-8e2e-4027-940f-6763504fa793"
      },
      "outputs": [
        {
          "output_type": "stream",
          "name": "stdout",
          "text": [
            "[[    0 65025]]\n"
          ]
        }
      ],
      "source": [
        "temp=[]\n",
        "for i in range(0,255):\n",
        "    for j in range (0,255):\n",
        "        temp.append(np.argmax(predictions[0,i,j]))\n",
        "temp=np.array(temp)\n",
        "unique, counts = np.unique(temp, return_counts=True)\n",
        "print(np.asarray((unique, counts)).T)"
      ]
    },
    {
      "cell_type": "code",
      "execution_count": null,
      "metadata": {
        "id": "jWaiyR7aUzHn"
      },
      "outputs": [],
      "source": [
        "print(counts[0])"
      ]
    },
    {
      "cell_type": "code",
      "execution_count": null,
      "metadata": {
        "id": "N_orXAI6UzK1"
      },
      "outputs": [],
      "source": []
    },
    {
      "cell_type": "code",
      "execution_count": null,
      "metadata": {
        "id": "GPLboax3UzNl"
      },
      "outputs": [],
      "source": []
    }
  ],
  "metadata": {
    "colab": {
      "provenance": [],
      "mount_file_id": "1dLd1TR0j-Key4KGezWQbC5-yFglwu7Iw",
      "authorship_tag": "ABX9TyO+vHauxcbd7OMx0qmbE1lB",
      "include_colab_link": true
    },
    "kernelspec": {
      "display_name": "Python 3",
      "name": "python3"
    },
    "language_info": {
      "name": "python"
    }
  },
  "nbformat": 4,
  "nbformat_minor": 0
}